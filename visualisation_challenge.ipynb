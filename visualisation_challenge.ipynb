{
 "cells": [
  {
   "cell_type": "code",
   "execution_count": 1,
   "id": "fb4f69ef",
   "metadata": {},
   "outputs": [],
   "source": [
    "import glob,os\n",
    "import numpy as np\n",
    "import pandas as pd\n",
    "import astropy.units as u\n",
    "from astropy.table import Table\n",
    "import matplotlib.pyplot as plt\n",
    "import plotly.graph_objects as go\n",
    "from astropy.coordinates import SkyCoord\n"
   ]
  },
  {
   "cell_type": "markdown",
   "id": "4f7111de",
   "metadata": {},
   "source": [
    "# Visualisation challenge\n",
    "\n",
    "How can we visualizze in the science portal and in general a 6-band light-curve?\n",
    "\n",
    "- which color scheme?\n",
    "- dynamic, non-dinamic plot\n",
    "- only detections? \n",
    "- add forced photometry?\n",
    "- different markers?\n",
    "- projections?\n",
    "- different profile tabs different visualisation?"
   ]
  },
  {
   "cell_type": "code",
   "execution_count": 2,
   "id": "3dc5dc38",
   "metadata": {},
   "outputs": [],
   "source": [
    "def in_colab():\n",
    "    try:\n",
    "        import google.colab\n",
    "        print('You are in Google Collab')\n",
    "        return True\n",
    "    except ImportError:\n",
    "        return False\n",
    "\n",
    "if in_colab():\n",
    "    print('Adding data to repository')\n",
    "    repo_url = \"https://github.com/Fink-analyses/Tutorial_LSST_sims_2025.git\"\n",
    "    repo_name = \"Tutorial_LSST_sims_2025\"\n",
    "    \n",
    "    if not os.path.exists(repo_name):\n",
    "        print(\"Cloning repo...\")\n",
    "        !git clone $repo_url\n",
    "    \n",
    "    # cd only if not already inside\n",
    "    current_path = os.path.basename(os.getcwd())\n",
    "    if current_path != repo_name:\n",
    "        %cd $repo_name\n"
   ]
  },
  {
   "cell_type": "markdown",
   "id": "1d0875c3",
   "metadata": {},
   "source": [
    "# Useful definitions"
   ]
  },
  {
   "cell_type": "code",
   "execution_count": 3,
   "id": "3932be54",
   "metadata": {},
   "outputs": [],
   "source": [
    "# Useful functions\n",
    "def convert_fluxcal_to_mag(df):\n",
    "    \"\"\"Convert fluxcal to magnitude and add magnitude error\n",
    "\n",
    "    Args:\n",
    "        df (pd.DataFrame): DataFrame with columns \"FLUXCAL\" and \"FLUXCALERR\"\n",
    "    Returns:\n",
    "        pd.DataFrame: DataFrame with added \"magnitude\" and \"magnitude error\"\n",
    "    \"\"\"\n",
    "    # Convert fluxcal to magnitude\n",
    "    df = df.copy()\n",
    "    flux = df[\"FLUXCAL\"].copy()\n",
    "    flux[flux <= 0] = np.nan\n",
    "\n",
    "    # Compute magnitude; where flux was <= 0, magnitude will be NaN\n",
    "    df[\"magnitude\"] = -2.5 * np.log10(flux) + 27.5\n",
    "    df[\"magnitude error\"] = 2.5 / np.log(10) * df[\"FLUXCALERR\"] / df[\"FLUXCAL\"]\n",
    "    return df\n",
    "\n",
    "def read_fits(fname, drop_separators=False):\n",
    "    \"\"\"Load SNANA formatted data and cast it to a PANDAS dataframe\n",
    "\n",
    "    Args:\n",
    "        fname (str): path + name to PHOT.FITS file\n",
    "        drop_separators (Boolean): if -777 are to be dropped\n",
    "\n",
    "    Returns:\n",
    "        (pandas.DataFrame) dataframe from PHOT.FITS file (with ID)\n",
    "        (pandas.DataFrame) dataframe from HEAD.FITS file\n",
    "    \"\"\"\n",
    "\n",
    "    # load photometry\n",
    "    dat = Table.read(fname, format=\"fits\")\n",
    "    df_phot = dat.to_pandas()\n",
    "    # failsafe\n",
    "    if df_phot.MJD.values[-1] == -777.0:\n",
    "        df_phot = df_phot.drop(df_phot.index[-1])\n",
    "    if df_phot.MJD.values[0] == -777.0:\n",
    "        df_phot = df_phot.drop(df_phot.index[0])\n",
    "\n",
    "    # load header\n",
    "    header = Table.read(fname.replace(\"PHOT\", \"HEAD\"), format=\"fits\")\n",
    "    df_header = header.to_pandas()\n",
    "    df_header[\"SNID\"] = df_header[\"SNID\"].astype(np.int32)\n",
    "    folder = os.path.basename(os.path.dirname(fname))\n",
    "    # Add new column with this extracted SN type for all rows\n",
    "    df_header['SN_TYPE_FROM_PATH'] = folder\n",
    "\n",
    "    # add SNID to phot for skimming\n",
    "    arr_ID = np.zeros(len(df_phot), dtype=np.int32)\n",
    "    # New light curves are identified by MJD == -777.0\n",
    "    arr_idx = np.where(df_phot[\"MJD\"].values == -777.0)[0]\n",
    "    arr_idx = np.hstack((np.array([0]), arr_idx, np.array([len(df_phot)])))\n",
    "    # Fill in arr_ID\n",
    "    for counter in range(1, len(arr_idx)):\n",
    "        start, end = arr_idx[counter - 1], arr_idx[counter]\n",
    "        # index starts at zero\n",
    "        arr_ID[start:end] = df_header.SNID.iloc[counter - 1]\n",
    "    df_phot[\"SNID\"] = arr_ID\n",
    "\n",
    "    if drop_separators:\n",
    "        df_phot = df_phot[df_phot.MJD != -777.000]\n",
    "\n",
    "    df_phot['SNR'] = df_phot['FLUXCAL'] / df_phot['FLUXCALERR']\n",
    "\n",
    "    # Add a column for latest MJD per SNID where SNR > 5\n",
    "    df_max_mjd = (\n",
    "    df_phot[df_phot.SNR > 5]\n",
    "    .groupby('SNID', as_index=False)['MJD']\n",
    "    .max()\n",
    "    .rename(columns={'MJD': 'max_MJD_SNR_gt_5'})\n",
    "    )\n",
    "    df_phot_with_last_mjd = df_phot.copy()\n",
    "    df_phot_with_last_mjd = df_phot_with_last_mjd.merge(df_max_mjd,on='SNID')\n",
    "\n",
    "    # convert to magnitude\n",
    "    df_phot_with_last_mjd = convert_fluxcal_to_mag(df_phot_with_last_mjd)\n",
    "\n",
    "    df_header_with_DDF = tag_DDF(df_header)\n",
    "\n",
    "    return df_header_with_DDF, df_phot_with_last_mjd\n",
    "\n",
    "\n",
    "\n",
    "def tag_DDF(df_header):\n",
    "    \"\"\"Tag DDF fields in the header DataFrame\n",
    "    Approximation using a 3 degree radius around the field center.\n",
    "\n",
    "    Args:\n",
    "        df_header (pd.DataFrame): DataFrame with header information\n",
    "\n",
    "    Returns:\n",
    "        pd.DataFrame: Updated df_header with DDF field tags\n",
    "    \"\"\"\n",
    "\n",
    "    # Rubin DDFs coordinates\n",
    "    dff_coords_dic = {\n",
    "        'Field': ['ELAISS1', 'XMM_LSS', 'ECDFS', 'COSMOS', 'EDFS_a', 'EDFS_b'],\n",
    "        'RA': [9.45, 35.57, 52.98, 150.11, 58.9, 63.6],\n",
    "        'DEC': [-44.02, -4.82, -28.12, 2.23, -49.32, -47.6],\n",
    "        'Gal l': [311.29, 171.1, 224.07, 236.78, 257.9, 254.48],\n",
    "        'Gal b': [-72.88, -58.91, -54.6, 42.13, -48.46, -45.77],\n",
    "        'Eclip l': [346.66, 31.59, 40.81, 151.39, 32, 40.97],\n",
    "        'Eclip b': [-43.2, -17.92, -45.44, -9.34, -66.61, -66.6]\n",
    "    }\n",
    "\n",
    "    ddf_fields = pd.DataFrame(dff_coords_dic)\n",
    "    \n",
    "    # Initialize new columns[]\n",
    "    df_header[\"in_ddf_field\"] = False\n",
    "    df_header[\"ddf_field_name\"] = np.nan\n",
    "\n",
    "    # Convert df_header RA/DEC to SkyCoord\n",
    "    coords_header = SkyCoord(ra=df_header[\"RA\"].values * u.deg,\n",
    "                            dec=df_header[\"DEC\"].values * u.deg)\n",
    "\n",
    "    # Loop through DDF fields\n",
    "    for _, row in ddf_fields.iterrows():\n",
    "        field = row[\"Field\"]\n",
    "        ra = row[\"RA\"]\n",
    "        dec = row[\"DEC\"]\n",
    "        \n",
    "        # Convert field center to SkyCoord\n",
    "        field_coord = SkyCoord(ra=ra * u.deg, dec=dec * u.deg)\n",
    "        \n",
    "        # Compute angular separation\n",
    "        separation = coords_header.separation(field_coord)\n",
    "        \n",
    "        # Find objects within radius (approximation of cirdular footprint)\n",
    "        radius = 3 # degrees\n",
    "        within = separation <= radius * u.deg\n",
    "        \n",
    "        df_header.loc[within, \"in_ddf_field\"] = True\n",
    "        df_header.loc[within, \"ddf_field_name\"] = field\n",
    "    return df_header\n"
   ]
  },
  {
   "cell_type": "markdown",
   "id": "8adee22a",
   "metadata": {},
   "source": [
    "# Read simulations"
   ]
  },
  {
   "cell_type": "code",
   "execution_count": 4,
   "id": "c1393230",
   "metadata": {},
   "outputs": [
    {
     "name": "stdout",
     "output_type": "stream",
     "text": [
      "Found 9 PHOT.FITS.gz files to read.\n",
      "Reading sims/AGN/AMR_ELASTICC2_LSST_NONIaMODEL00-0001_PHOT.FITS.gz\n",
      "Reading sims/SNIIn/AMR_ELASTICC2_LSST_NONIaMODEL00-0001_PHOT.FITS.gz\n",
      "Reading sims/SNIc/AMR_ELASTICC2_LSST_NONIaMODEL00-0001_PHOT.FITS.gz\n",
      "Reading sims/SNIb/AMR_ELASTICC2_LSST_NONIaMODEL00-0001_PHOT.FITS.gz\n",
      "Reading sims/SLSN/AMR_ELASTICC2_LSST_NONIaMODEL00-0001_PHOT.FITS.gz\n",
      "Reading sims/KN/PIP_AMR_KN_LSST_KN_KASEN_81c4b_NONIaMODEL00-0001_PHOT.FITS.gz\n",
      "Reading sims/SNII/AMR_ELASTICC2_LSST_NONIaMODEL00-0001_PHOT.FITS.gz\n",
      "Reading sims/SNIa/AMR_ELASTICC2_LSST_NONIaMODEL00-0012_PHOT.FITS.gz\n",
      "Reading sims/TDE/AMR_ELASTICC2_LSST_NONIaMODEL00-0001_PHOT.FITS.gz\n",
      "\n",
      "Number of light curves: 68483\n",
      "Number of photometric points per light-curve: 75.0 +- 257.3\n",
      "                   Total  In DDF  % in DDF\n",
      "SN_TYPE_FROM_PATH                         \n",
      "AGN                 1241      13       1.0\n",
      "KN                  5764      60       1.0\n",
      "SLSN                 880      11       1.2\n",
      "SNII               13991     303       2.2\n",
      "SNIIn               6352     105       1.7\n",
      "SNIa               34253     540       1.6\n",
      "SNIb                2912      61       2.1\n",
      "SNIc                2697      50       1.9\n",
      "TDE                  393       5       1.3\n"
     ]
    }
   ],
   "source": [
    "df_header_list=[]\n",
    "df_phot_list=[]\n",
    "list_to_read = glob.glob(\"sims/*/*PHOT.FITS.gz\")\n",
    "print(f\"Found {len(list_to_read)} PHOT.FITS.gz files to read.\")\n",
    "for fphot in list_to_read:\n",
    "    print(f\"Reading {fphot}\")\n",
    "    df_header_tmp, df_phot_tmp = read_fits(fphot, drop_separators=True)\n",
    "    df_header_list.append(df_header_tmp)\n",
    "    df_phot_list.append(df_phot_tmp)\n",
    "df_header = pd.concat(df_header_list, ignore_index=True)\n",
    "# Read all PHOT.FITS.gz files and concatenate them    \n",
    "df_phot = pd.concat(df_phot_list, ignore_index=True)\n",
    "\n",
    "print(\"\")\n",
    "print(f\"Number of light curves: {len(df_header)}\")\n",
    "print(f\"Number of photometric points per light-curve: {df_phot.groupby('SNID').count()['MJD'].median()} +- {np.round(df_phot.groupby('SNID').count()['MJD'].std(),2)}\")\n",
    "# Total per SNTYPE\n",
    "total_counts = df_header.groupby('SN_TYPE_FROM_PATH')['SNID'].count()\n",
    "\n",
    "# In DDF per SNTYPE\n",
    "ddf_counts = df_header[df_header['in_ddf_field']].groupby('SN_TYPE_FROM_PATH')['SNID'].count()\n",
    "\n",
    "# Combine into a DataFrame\n",
    "summary_df = pd.DataFrame({\n",
    "    'Total': total_counts,\n",
    "    'In DDF': ddf_counts,\n",
    "})\n",
    "\n",
    "# Fill missing DDF entries with 0\n",
    "summary_df['In DDF'] = summary_df['In DDF'].fillna(0).astype(int)\n",
    "\n",
    "# Compute percentage\n",
    "summary_df['% in DDF'] = (summary_df['In DDF'] / summary_df['Total'] * 100).round(1)\n",
    "\n",
    "# Display\n",
    "print(summary_df)\n"
   ]
  },
  {
   "cell_type": "markdown",
   "id": "d2bde782",
   "metadata": {},
   "source": [
    "You can choose which type to plot, I choose a SN Ib for simplicity"
   ]
  },
  {
   "cell_type": "code",
   "execution_count": 5,
   "id": "13350e07",
   "metadata": {},
   "outputs": [
    {
     "data": {
      "text/plain": [
       "array(['AGN', 'SNIIn', 'SNIc', 'SNIb', 'SLSN', 'KN', 'SNII', 'SNIa',\n",
       "       'TDE'], dtype=object)"
      ]
     },
     "execution_count": 5,
     "metadata": {},
     "output_type": "execute_result"
    }
   ],
   "source": [
    "df_header['SN_TYPE_FROM_PATH'].unique()"
   ]
  },
  {
   "cell_type": "code",
   "execution_count": 6,
   "id": "c9b0d99e",
   "metadata": {},
   "outputs": [],
   "source": [
    "# example, taking the type you want\n",
    "idx = df_header[df_header['SN_TYPE_FROM_PATH']=='SLSN'].SNID.iloc[0]"
   ]
  },
  {
   "cell_type": "code",
   "execution_count": 7,
   "id": "ffc382d9",
   "metadata": {},
   "outputs": [],
   "source": [
    "# I took a known id for SN Ib\n",
    "idx = 2998840"
   ]
  },
  {
   "cell_type": "markdown",
   "id": "096308dc",
   "metadata": {},
   "source": [
    "# Matplotlib"
   ]
  },
  {
   "cell_type": "code",
   "execution_count": 8,
   "id": "271d4c72",
   "metadata": {},
   "outputs": [
    {
     "data": {
      "image/png": "[encoded data removed]",
      "text/plain": [
       "<Figure size 800x400 with 1 Axes>"
      ]
     },
     "metadata": {},
     "output_type": "display_data"
    }
   ],
   "source": [
    "\n",
    "# Define LSST band colors\n",
    "band_colors = {\n",
    "    'LSST-u': '#8c8cff',\n",
    "    'LSST-g': '#377eb8',\n",
    "    'LSST-r': '#4daf4a',\n",
    "    'LSST-i': '#ff7f00',\n",
    "    'LSST-z': '#e41a1c',\n",
    "    'LSST-Y': '#a65628'\n",
    "}\n",
    "\n",
    "def plot_lc_matplotlib(df_phot, df_header, idx, inmag=False, convert_date=False):\n",
    "    sel_header = df_header[df_header.SNID == idx]\n",
    "    sel_phot = df_phot[df_phot.SNID == idx].copy()\n",
    "\n",
    "    # Restrict to photometry received by broker\n",
    "    snr5_df = sel_phot[sel_phot['SNR'] > 5]\n",
    "    last_alert_mjd = snr5_df['MJD'].max()\n",
    "    sel_phot = sel_phot[sel_phot['MJD'] <= last_alert_mjd]\n",
    "\n",
    "    if len(sel_phot) == 0:\n",
    "        print(f\"No photometry for SNID {idx}\")\n",
    "        return\n",
    "\n",
    "    if inmag:\n",
    "        sel_phot = sel_phot[sel_phot[\"magnitude\"] > 0]\n",
    "        yvar = \"magnitude\"\n",
    "        yerrvar = \"magnitude error\"\n",
    "        ylabel = \"Magnitude\"\n",
    "    else:\n",
    "        yvar = \"FLUXCAL\"\n",
    "        yerrvar = \"FLUXCALERR\"\n",
    "        ylabel = \"FLUXCAL\"\n",
    "\n",
    "    sel_phot[\"BAND\"] = sel_phot[\"BAND\"].str.decode(\"utf-8\").str.strip()\n",
    "    bands = sel_phot[\"BAND\"].unique()\n",
    "\n",
    "    if convert_date:\n",
    "        sel_phot[\"TIME\"] = pd.to_datetime(sel_phot[\"MJD\"], unit=\"D\", origin=\"1858-11-17\")\n",
    "        x_col = \"TIME\"\n",
    "        xlabel = \"Date\"\n",
    "    else:\n",
    "        x_col = \"MJD\"\n",
    "        xlabel = \"MJD\"\n",
    "\n",
    "    fig, ax = plt.subplots(figsize=(8, 4))\n",
    "\n",
    "    for band in bands:\n",
    "        color = band_colors.get(band, \"black\")\n",
    "        band_data = sel_phot[sel_phot[\"BAND\"] == band]\n",
    "\n",
    "        # Plot with error bars for SNR > 1\n",
    "        mask_err = band_data[\"SNR\"] > 1\n",
    "        ax.errorbar(\n",
    "            band_data.loc[mask_err, x_col],\n",
    "            band_data.loc[mask_err, yvar],\n",
    "            yerr=band_data.loc[mask_err, yerrvar],\n",
    "            fmt='o',\n",
    "            color=color,\n",
    "            label=band,\n",
    "            markersize=6,\n",
    "            linestyle='none'\n",
    "        )\n",
    "\n",
    "        # Plot without error bars for SNR <= 1\n",
    "        mask_noerr = band_data[\"SNR\"] <= 1\n",
    "        ax.plot(\n",
    "            band_data.loc[mask_noerr, x_col],\n",
    "            band_data.loc[mask_noerr, yvar],\n",
    "            'o',\n",
    "            color=color,\n",
    "            markersize=6\n",
    "        )\n",
    "\n",
    "    # Title and labels\n",
    "    z = np.round(float(sel_header[\"REDSHIFT_FINAL\"].values[0]), 2)\n",
    "    sim_type = sel_header[\"SIM_TYPE_NAME\"].values[0]\n",
    "    if isinstance(sim_type, bytes):\n",
    "        sim_type = sim_type.decode(\"utf-8\")\n",
    "    ddf = sel_header[\"ddf_field_name\"].values[0] if sel_header[\"in_ddf_field\"].values[0] else \"Not in DDF\"\n",
    "\n",
    "    ax.set_title(f\"{sim_type} SNID: {idx} z: {z} {ddf}\")\n",
    "    ax.set_xlabel(xlabel)\n",
    "    ax.set_ylabel(ylabel)\n",
    "    if inmag:\n",
    "        ax.invert_yaxis()\n",
    "    ax.legend(title=\"Filter\", fontsize='small', loc='best')\n",
    "    plt.tight_layout()\n",
    "    plt.show()\n",
    "plot_lc_matplotlib(df_phot, df_header, idx, inmag=True, convert_date=True)"
   ]
  },
  {
   "cell_type": "markdown",
   "id": "feb1081f",
   "metadata": {},
   "source": [
    "# Plotly"
   ]
  },
  {
   "cell_type": "code",
   "execution_count": 9,
   "id": "2756a197",
   "metadata": {},
   "outputs": [],
   "source": [
    "# Useful plotting functions\n",
    "band_colors = {\n",
    "    'LSST-u': '#8c8cff',   # soft violet\n",
    "    'LSST-g': '#377eb8',   # blue\n",
    "    'LSST-r': '#4daf4a',   # green\n",
    "    'LSST-i': '#ff7f00',   # orange\n",
    "    'LSST-z': '#e41a1c',   # red\n",
    "    'LSST-Y': '#a65628'    # brown\n",
    "}\n",
    "\n",
    "def plot_lc_plotly(df_phot, df_header, idx, inmag=False, convert_date=False):\n",
    "    \"\"\"Plot light curve for a given SNID\n",
    "\n",
    "    Args:\n",
    "        df_phot (pd.DataFrame): photometry\n",
    "        df_header (pd.DataFrame): metadata\n",
    "        idx (int64): SNID to plot\n",
    "        inmag (bool, optional): Plot using magnitudes instead of FLUXCAL. Defaults to False.\n",
    "        convert_date (bool, optional): Plot using human-dates instead of MJD. Defaults to False.\n",
    "    \"\"\"\n",
    "    # Select data for the given SNID\n",
    "    sel_header = df_header[df_header.SNID == idx]\n",
    "    sel_phot = df_phot[df_phot.SNID == idx]\n",
    "\n",
    "    # Restrict to photometry received by broker\n",
    "    snr5_df = sel_phot[sel_phot['SNR'] > 5]\n",
    "    last_alert_mjd = snr5_df['MJD'].max()\n",
    "    sel_phot = sel_phot[sel_phot['MJD'] <= last_alert_mjd]\n",
    "\n",
    "    if len(sel_phot)>0:\n",
    "\n",
    "        if inmag: # selet only valid magnitudes\n",
    "            sel_phot = sel_phot[sel_phot[\"magnitude\"] > 0]\n",
    "            yvar = \"magnitude\"\n",
    "            yerrvar = \"magnitude error\"\n",
    "        else:\n",
    "            yvar = \"FLUXCAL\"\n",
    "            yerrvar = \"FLUXCALERR\"\n",
    "\n",
    "        ylabel = 'magnitude' if inmag else 'FLUXCAL'\n",
    "        sel_phot[\"BAND\"] = sel_phot[\"BAND\"].str.decode('utf-8').str.strip()\n",
    "        bands = sel_phot[\"BAND\"].unique()\n",
    "\n",
    "        # Convert MJD to datetime if requested\n",
    "        if convert_date:\n",
    "            sel_phot[\"TIME\"] = pd.to_datetime(sel_phot[\"MJD\"], unit='D', origin='1858-11-17')\n",
    "            x_col = \"TIME\"\n",
    "        else:\n",
    "            x_col = \"MJD\"\n",
    "\n",
    "        # Initialize the figure\n",
    "        fig = go.Figure()\n",
    "        for flt in bands:\n",
    "            sel_phot_flt = sel_phot[sel_phot[\"BAND\"] == flt]\n",
    "\n",
    "            # Plot points based on SNR thresholds\n",
    "            for snr_min, snr_max, symbol, opacity, name_suffix in [\n",
    "                (5, np.inf, 'circle', 1, \"SNR > 5\"),\n",
    "                (1, 5, 'square', 0.5, \"1 < SNR < 5\"),\n",
    "            ]:\n",
    "                mask = (sel_phot_flt['SNR'] > snr_min) & (sel_phot_flt['SNR'] < snr_max)\n",
    "                fig.add_trace(go.Scatter(\n",
    "                    x=sel_phot_flt.loc[mask, x_col],\n",
    "                    y=sel_phot_flt.loc[mask, yvar],\n",
    "                    error_y=dict(\n",
    "                        type='data',\n",
    "                        array=sel_phot_flt.loc[mask, yerrvar],\n",
    "                        visible=True,\n",
    "                        thickness=1.5 if snr_min < 5 else None,\n",
    "                        width=0.5 if snr_min < 5 else None,\n",
    "                    ),\n",
    "                    mode='markers',\n",
    "                    name=f\"{flt}\" if snr_min == 5 else None,\n",
    "                    showlegend=(snr_min == 5),  # hides legend when name is None\n",
    "                    marker=dict(opacity=opacity, symbol=symbol, size=8, color=band_colors.get(flt, 'black'))\n",
    "                ))\n",
    "\n",
    "            # SNR < 1 points, no error bars\n",
    "            mask = sel_phot_flt['SNR'] < 1\n",
    "            fig.add_trace(go.Scatter(\n",
    "                x=sel_phot_flt.loc[mask, x_col],\n",
    "                y=sel_phot_flt.loc[mask, yvar],\n",
    "                mode='markers',\n",
    "                name=None,\n",
    "                showlegend=False,\n",
    "                marker=dict(opacity=0.5, symbol='triangle-down', size=8,color=band_colors.get(flt, 'black'))\n",
    "            ))\n",
    "\n",
    "        z = np.round(float(sel_header.REDSHIFT_FINAL.values[0]), 2)\n",
    "        sim_type_name = sel_header.SIM_TYPE_NAME.values[0]\n",
    "        if isinstance(sim_type_name, bytes):\n",
    "            sim_type_name = sim_type_name.decode(\"utf-8\")\n",
    "        if sel_header.in_ddf_field.values[0]:\n",
    "            ddf_field_name = sel_header.ddf_field_name.values[0]\n",
    "        else:\n",
    "            ddf_field_name = \"Not in DDF\"\n",
    "        fig.update_layout(\n",
    "            title=f\"{sim_type_name} SNID: {idx} z: {z} {ddf_field_name}\",\n",
    "            xaxis_title=\"Date\" if convert_date else \"MJD\",\n",
    "            yaxis_title=ylabel,\n",
    "            height=300,\n",
    "            width=600,\n",
    "            legend_title=\"Filter\"\n",
    "        )\n",
    "\n",
    "        if inmag:\n",
    "            fig.update_yaxes(autorange=\"reversed\")\n",
    "        fig.show()\n"
   ]
  },
  {
   "cell_type": "code",
   "execution_count": 10,
   "id": "60fc5bf2",
   "metadata": {},
   "outputs": [
    {
     "name": "stdout",
     "output_type": "stream",
     "text": [
      "Plotting light curves for each SN type with >5 photometric points...\n",
      "Circles = SNR > 5, Squares = 1 < SNR < 5, Triangles = SNR < 1\n"
     ]
    },
    {
     "data": {
      "application/vnd.plotly.v1+json": {
       "config": {
        "plotlyServerURL": "https://plot.ly"
       },
       "data": [
        {
         "error_y": {
          "array": [
           0.06352802366018295,
           0.0443846620619297,
           0.10378316789865494,
           0.09190645068883896,
           0.0715145468711853,
           0.08232542127370834,
           0.10241047292947769,
           0.19401057064533234
          ],
          "type": "data",
          "visible": true
         },
         "marker": {
          "color": "#ff7f00",
          "opacity": 1,
          "size": 8,
          "symbol": "circle"
         },
         "mode": "markers",
         "name": "LSST-i",
         "showlegend": true,
         "type": "scatter",
         "x": [
          "2026-06-06T01:14:44.160000",
          "2026-06-18T22:58:30.720000",
          "2026-07-03T03:45:47.519999",
          "2026-07-03T03:48:23.040000",
          "2026-07-13T02:10:19.199999",
          "2026-07-13T02:11:02.400000",
          "2026-07-17T01:53:02.400000",
          "2026-08-05T01:24:40.320000"
         ],
         "y": [
          22.621994018554688,
          21.63336944580078,
          22.194480895996094,
          22.105785369873047,
          22.549585342407227,
          22.535789489746094,
          22.63011932373047,
          23.549610137939453
         ]
        },
        {
         "error_y": {
          "array": [
           0.5416849851608276,
           0.3509826958179474
          ],
          "thickness": 1.5,
          "type": "data",
          "visible": true,
          "width": 0.5
         },
         "marker": {
          "color": "#ff7f00",
          "opacity": 0.5,
          "size": 8,
          "symbol": "square"
         },
         "mode": "markers",
         "showlegend": false,
         "type": "scatter",
         "x": [
          "2026-03-25T06:22:01.920000",
          "2026-07-31T02:18:48.960000"
         ],
         "y": [
          25.005435943603516,
          22.885229110717773
         ]
        },
        {
         "marker": {
          "color": "#ff7f00",
          "opacity": 0.5,
          "size": 8,
          "symbol": "triangle-down"
         },
         "mode": "markers",
         "showlegend": false,
         "type": "scatter",
         "x": [
          "2026-04-08T08:45:10.079999",
          "2026-04-11T09:18:25.919999",
          "2026-04-24T07:30:43.200000",
          "2026-05-10T06:21:01.440000"
         ],
         "y": [
          25.808557510375977,
          26.31879425048828,
          25.84060287475586,
          26.159202575683594
         ]
        },
        {
         "error_y": {
          "array": [
           0.050065211951732635,
           0.05469220504164696,
           0.17473213374614716,
           0.15704061090946198
          ],
          "type": "data",
          "visible": true
         },
         "marker": {
          "color": "#e41a1c",
          "opacity": 1,
          "size": 8,
          "symbol": "circle"
         },
         "mode": "markers",
         "name": "LSST-z",
         "showlegend": true,
         "type": "scatter",
         "x": [
          "2026-06-18T23:14:38.400000",
          "2026-06-22T23:52:04.800000",
          "2026-07-01T05:07:00.479999",
          "2026-07-17T02:28:01.920000"
         ],
         "y": [
          21.574026107788086,
          21.583984375,
          21.87097930908203,
          22.46086883544922
         ]
        },
        {
         "error_y": {
          "array": [
           0.9145691990852356
          ],
          "thickness": 1.5,
          "type": "data",
          "visible": true,
          "width": 0.5
         },
         "marker": {
          "color": "#e41a1c",
          "opacity": 0.5,
          "size": 8,
          "symbol": "square"
         },
         "mode": "markers",
         "showlegend": false,
         "type": "scatter",
         "x": [
          "2026-04-11T09:40:53.760000"
         ],
         "y": [
          24.548219680786133
         ]
        },
        {
         "marker": {
          "color": "#e41a1c",
          "opacity": 0.5,
          "size": 8,
          "symbol": "triangle-down"
         },
         "mode": "markers",
         "showlegend": false,
         "type": "scatter",
         "x": [
          "2026-03-25T09:09:04.320000",
          "2026-04-11T09:35:08.160000",
          "2026-05-08T07:06:57.599999",
          "2026-07-31T02:53:39.840000"
         ],
         "y": [
          25.446138381958008,
          25.363037109375,
          26.19521713256836,
          25.36241340637207
         ]
        },
        {
         "error_y": {
          "array": [
           0.10391940921545029,
           0.12359576672315598
          ],
          "type": "data",
          "visible": true
         },
         "marker": {
          "color": "#a65628",
          "opacity": 1,
          "size": 8,
          "symbol": "circle"
         },
         "mode": "markers",
         "name": "LSST-Y",
         "showlegend": true,
         "type": "scatter",
         "x": [
          "2026-06-23T00:27:47.520000",
          "2026-06-30T03:12:05.760000"
         ],
         "y": [
          21.625261306762695,
          21.586666107177734
         ]
        },
        {
         "error_y": {
          "array": [
           0.88047194480896,
           1.0629833936691284,
           0.2863953113555908,
           0.7267025709152222
          ],
          "thickness": 1.5,
          "type": "data",
          "visible": true,
          "width": 0.5
         },
         "marker": {
          "color": "#a65628",
          "opacity": 0.5,
          "size": 8,
          "symbol": "square"
         },
         "mode": "markers",
         "showlegend": false,
         "type": "scatter",
         "x": [
          "2026-03-30T09:10:39.360000",
          "2026-04-11T09:57:36",
          "2026-06-30T03:45:04.320000",
          "2026-07-01T05:42:25.920000"
         ],
         "y": [
          23.963594436645508,
          23.550127029418945,
          21.89313507080078,
          22.447891235351562
         ]
        },
        {
         "marker": {
          "color": "#a65628",
          "opacity": 0.5,
          "size": 8,
          "symbol": "triangle-down"
         },
         "mode": "markers",
         "showlegend": false,
         "type": "scatter",
         "x": [
          "2026-03-30T08:55:49.440000",
          "2026-05-08T07:41:48.479999",
          "2026-05-23T06:21:18.719999"
         ],
         "y": [
          25.1178035736084,
          26.86144256591797,
          24.37305450439453
         ]
        },
        {
         "error_y": {
          "array": [],
          "type": "data",
          "visible": true
         },
         "marker": {
          "color": "#8c8cff",
          "opacity": 1,
          "size": 8,
          "symbol": "circle"
         },
         "mode": "markers",
         "name": "LSST-u",
         "showlegend": true,
         "type": "scatter",
         "x": [],
         "y": []
        },
        {
         "error_y": {
          "array": [
           0.6417425870895386,
           0.75997394323349
          ],
          "thickness": 1.5,
          "type": "data",
          "visible": true,
          "width": 0.5
         },
         "marker": {
          "color": "#8c8cff",
          "opacity": 0.5,
          "size": 8,
          "symbol": "square"
         },
         "mode": "markers",
         "showlegend": false,
         "type": "scatter",
         "x": [
          "2026-05-12T03:09:21.600000",
          "2026-06-17T23:36:05.759999"
         ],
         "y": [
          24.450307846069336,
          24.26996421813965
         ]
        },
        {
         "marker": {
          "color": "#8c8cff",
          "opacity": 0.5,
          "size": 8,
          "symbol": "triangle-down"
         },
         "mode": "markers",
         "showlegend": false,
         "type": "scatter",
         "x": [
          "2026-04-12T08:25:52.320000"
         ],
         "y": [
          27.522106170654297
         ]
        },
        {
         "error_y": {
          "array": [
           0.056937120854854584,
           0.03629794344305992,
           0.17718903720378876,
           0.16658030450344086,
           0.16362246870994568,
           0.15750762820243835,
           0.18374553322792053
          ],
          "type": "data",
          "visible": true
         },
         "marker": {
          "color": "#4daf4a",
          "opacity": 1,
          "size": 8,
          "symbol": "circle"
         },
         "mode": "markers",
         "name": "LSST-r",
         "showlegend": true,
         "type": "scatter",
         "x": [
          "2026-06-06T00:39:44.640000",
          "2026-06-18T00:13:58.080000",
          "2026-07-03T03:11:05.280000",
          "2026-07-03T03:13:40.800000",
          "2026-07-13T02:45:01.440000",
          "2026-07-13T02:45:44.640000",
          "2026-08-05T00:49:40.800000"
         ],
         "y": [
          22.748531341552734,
          22.05829620361328,
          23.000835418701172,
          22.90381622314453,
          23.60683822631836,
          23.53514289855957,
          23.799509048461914
         ]
        },
        {
         "error_y": {
          "array": [],
          "thickness": 1.5,
          "type": "data",
          "visible": true,
          "width": 0.5
         },
         "marker": {
          "color": "#4daf4a",
          "opacity": 0.5,
          "size": 8,
          "symbol": "square"
         },
         "mode": "markers",
         "showlegend": false,
         "type": "scatter",
         "x": [],
         "y": []
        },
        {
         "marker": {
          "color": "#4daf4a",
          "opacity": 0.5,
          "size": 8,
          "symbol": "triangle-down"
         },
         "mode": "markers",
         "showlegend": false,
         "type": "scatter",
         "x": [
          "2026-04-27T08:29:28.319999",
          "2026-05-12T02:37:06.240000"
         ],
         "y": [
          25.96052360534668,
          26.950239181518555
         ]
        }
       ],
       "layout": {
        "height": 300,
        "legend": {
         "title": {
          "text": "Filter"
         }
        },
        "template": {
         "data": {
          "bar": [
           {
            "error_x": {
             "color": "#2a3f5f"
            },
            "error_y": {
             "color": "#2a3f5f"
            },
            "marker": {
             "line": {
              "color": "#E5ECF6",
              "width": 0.5
             },
             "pattern": {
              "fillmode": "overlay",
              "size": 10,
              "solidity": 0.2
             }
            },
            "type": "bar"
           }
          ],
          "barpolar": [
           {
            "marker": {
             "line": {
              "color": "#E5ECF6",
              "width": 0.5
             },
             "pattern": {
              "fillmode": "overlay",
              "size": 10,
              "solidity": 0.2
             }
            },
            "type": "barpolar"
           }
          ],
          "carpet": [
           {
            "aaxis": {
             "endlinecolor": "#2a3f5f",
             "gridcolor": "white",
             "linecolor": "white",
             "minorgridcolor": "white",
             "startlinecolor": "#2a3f5f"
            },
            "baxis": {
             "endlinecolor": "#2a3f5f",
             "gridcolor": "white",
             "linecolor": "white",
             "minorgridcolor": "white",
             "startlinecolor": "#2a3f5f"
            },
            "type": "carpet"
           }
          ],
          "choropleth": [
           {
            "colorbar": {
             "outlinewidth": 0,
             "ticks": ""
            },
            "type": "choropleth"
           }
          ],
          "contour": [
           {
            "colorbar": {
             "outlinewidth": 0,
             "ticks": ""
            },
            "colorscale": [
             [
              0,
              "#0d0887"
             ],
             [
              0.1111111111111111,
              "#46039f"
             ],
             [
              0.2222222222222222,
              "#7201a8"
             ],
             [
              0.3333333333333333,
              "#9c179e"
             ],
             [
              0.4444444444444444,
              "#bd3786"
             ],
             [
              0.5555555555555556,
              "#d8576b"
             ],
             [
              0.6666666666666666,
              "#ed7953"
             ],
             [
              0.7777777777777778,
              "#fb9f3a"
             ],
             [
              0.8888888888888888,
              "#fdca26"
             ],
             [
              1,
              "#f0f921"
             ]
            ],
            "type": "contour"
           }
          ],
          "contourcarpet": [
           {
            "colorbar": {
             "outlinewidth": 0,
             "ticks": ""
            },
            "type": "contourcarpet"
           }
          ],
          "heatmap": [
           {
            "colorbar": {
             "outlinewidth": 0,
             "ticks": ""
            },
            "colorscale": [
             [
              0,
              "#0d0887"
             ],
             [
              0.1111111111111111,
              "#46039f"
             ],
             [
              0.2222222222222222,
              "#7201a8"
             ],
             [
              0.3333333333333333,
              "#9c179e"
             ],
             [
              0.4444444444444444,
              "#bd3786"
             ],
             [
              0.5555555555555556,
              "#d8576b"
             ],
             [
              0.6666666666666666,
              "#ed7953"
             ],
             [
              0.7777777777777778,
              "#fb9f3a"
             ],
             [
              0.8888888888888888,
              "#fdca26"
             ],
             [
              1,
              "#f0f921"
             ]
            ],
            "type": "heatmap"
           }
          ],
          "heatmapgl": [
           {
            "colorbar": {
             "outlinewidth": 0,
             "ticks": ""
            },
            "colorscale": [
             [
              0,
              "#0d0887"
             ],
             [
              0.1111111111111111,
              "#46039f"
             ],
             [
              0.2222222222222222,
              "#7201a8"
             ],
             [
              0.3333333333333333,
              "#9c179e"
             ],
             [
              0.4444444444444444,
              "#bd3786"
             ],
             [
              0.5555555555555556,
              "#d8576b"
             ],
             [
              0.6666666666666666,
              "#ed7953"
             ],
             [
              0.7777777777777778,
              "#fb9f3a"
             ],
             [
              0.8888888888888888,
              "#fdca26"
             ],
             [
              1,
              "#f0f921"
             ]
            ],
            "type": "heatmapgl"
           }
          ],
          "histogram": [
           {
            "marker": {
             "pattern": {
              "fillmode": "overlay",
              "size": 10,
              "solidity": 0.2
             }
            },
            "type": "histogram"
           }
          ],
          "histogram2d": [
           {
            "colorbar": {
             "outlinewidth": 0,
             "ticks": ""
            },
            "colorscale": [
             [
              0,
              "#0d0887"
             ],
             [
              0.1111111111111111,
              "#46039f"
             ],
             [
              0.2222222222222222,
              "#7201a8"
             ],
             [
              0.3333333333333333,
              "#9c179e"
             ],
             [
              0.4444444444444444,
              "#bd3786"
             ],
             [
              0.5555555555555556,
              "#d8576b"
             ],
             [
              0.6666666666666666,
              "#ed7953"
             ],
             [
              0.7777777777777778,
              "#fb9f3a"
             ],
             [
              0.8888888888888888,
              "#fdca26"
             ],
             [
              1,
              "#f0f921"
             ]
            ],
            "type": "histogram2d"
           }
          ],
          "histogram2dcontour": [
           {
            "colorbar": {
             "outlinewidth": 0,
             "ticks": ""
            },
            "colorscale": [
             [
              0,
              "#0d0887"
             ],
             [
              0.1111111111111111,
              "#46039f"
             ],
             [
              0.2222222222222222,
              "#7201a8"
             ],
             [
              0.3333333333333333,
              "#9c179e"
             ],
             [
              0.4444444444444444,
              "#bd3786"
             ],
             [
              0.5555555555555556,
              "#d8576b"
             ],
             [
              0.6666666666666666,
              "#ed7953"
             ],
             [
              0.7777777777777778,
              "#fb9f3a"
             ],
             [
              0.8888888888888888,
              "#fdca26"
             ],
             [
              1,
              "#f0f921"
             ]
            ],
            "type": "histogram2dcontour"
           }
          ],
          "mesh3d": [
           {
            "colorbar": {
             "outlinewidth": 0,
             "ticks": ""
            },
            "type": "mesh3d"
           }
          ],
          "parcoords": [
           {
            "line": {
             "colorbar": {
              "outlinewidth": 0,
              "ticks": ""
             }
            },
            "type": "parcoords"
           }
          ],
          "pie": [
           {
            "automargin": true,
            "type": "pie"
           }
          ],
          "scatter": [
           {
            "marker": {
             "colorbar": {
              "outlinewidth": 0,
              "ticks": ""
             }
            },
            "type": "scatter"
           }
          ],
          "scatter3d": [
           {
            "line": {
             "colorbar": {
              "outlinewidth": 0,
              "ticks": ""
             }
            },
            "marker": {
             "colorbar": {
              "outlinewidth": 0,
              "ticks": ""
             }
            },
            "type": "scatter3d"
           }
          ],
          "scattercarpet": [
           {
            "marker": {
             "colorbar": {
              "outlinewidth": 0,
              "ticks": ""
             }
            },
            "type": "scattercarpet"
           }
          ],
          "scattergeo": [
           {
            "marker": {
             "colorbar": {
              "outlinewidth": 0,
              "ticks": ""
             }
            },
            "type": "scattergeo"
           }
          ],
          "scattergl": [
           {
            "marker": {
             "colorbar": {
              "outlinewidth": 0,
              "ticks": ""
             }
            },
            "type": "scattergl"
           }
          ],
          "scattermapbox": [
           {
            "marker": {
             "colorbar": {
              "outlinewidth": 0,
              "ticks": ""
             }
            },
            "type": "scattermapbox"
           }
          ],
          "scatterpolar": [
           {
            "marker": {
             "colorbar": {
              "outlinewidth": 0,
              "ticks": ""
             }
            },
            "type": "scatterpolar"
           }
          ],
          "scatterpolargl": [
           {
            "marker": {
             "colorbar": {
              "outlinewidth": 0,
              "ticks": ""
             }
            },
            "type": "scatterpolargl"
           }
          ],
          "scatterternary": [
           {
            "marker": {
             "colorbar": {
              "outlinewidth": 0,
              "ticks": ""
             }
            },
            "type": "scatterternary"
           }
          ],
          "surface": [
           {
            "colorbar": {
             "outlinewidth": 0,
             "ticks": ""
            },
            "colorscale": [
             [
              0,
              "#0d0887"
             ],
             [
              0.1111111111111111,
              "#46039f"
             ],
             [
              0.2222222222222222,
              "#7201a8"
             ],
             [
              0.3333333333333333,
              "#9c179e"
             ],
             [
              0.4444444444444444,
              "#bd3786"
             ],
             [
              0.5555555555555556,
              "#d8576b"
             ],
             [
              0.6666666666666666,
              "#ed7953"
             ],
             [
              0.7777777777777778,
              "#fb9f3a"
             ],
             [
              0.8888888888888888,
              "#fdca26"
             ],
             [
              1,
              "#f0f921"
             ]
            ],
            "type": "surface"
           }
          ],
          "table": [
           {
            "cells": {
             "fill": {
              "color": "#EBF0F8"
             },
             "line": {
              "color": "white"
             }
            },
            "header": {
             "fill": {
              "color": "#C8D4E3"
             },
             "line": {
              "color": "white"
             }
            },
            "type": "table"
           }
          ]
         },
         "layout": {
          "annotationdefaults": {
           "arrowcolor": "#2a3f5f",
           "arrowhead": 0,
           "arrowwidth": 1
          },
          "autotypenumbers": "strict",
          "coloraxis": {
           "colorbar": {
            "outlinewidth": 0,
            "ticks": ""
           }
          },
          "colorscale": {
           "diverging": [
            [
             0,
             "#8e0152"
            ],
            [
             0.1,
             "#c51b7d"
            ],
            [
             0.2,
             "#de77ae"
            ],
            [
             0.3,
             "#f1b6da"
            ],
            [
             0.4,
             "#fde0ef"
            ],
            [
             0.5,
             "#f7f7f7"
            ],
            [
             0.6,
             "#e6f5d0"
            ],
            [
             0.7,
             "#b8e186"
            ],
            [
             0.8,
             "#7fbc41"
            ],
            [
             0.9,
             "#4d9221"
            ],
            [
             1,
             "#276419"
            ]
           ],
           "sequential": [
            [
             0,
             "#0d0887"
            ],
            [
             0.1111111111111111,
             "#46039f"
            ],
            [
             0.2222222222222222,
             "#7201a8"
            ],
            [
             0.3333333333333333,
             "#9c179e"
            ],
            [
             0.4444444444444444,
             "#bd3786"
            ],
            [
             0.5555555555555556,
             "#d8576b"
            ],
            [
             0.6666666666666666,
             "#ed7953"
            ],
            [
             0.7777777777777778,
             "#fb9f3a"
            ],
            [
             0.8888888888888888,
             "#fdca26"
            ],
            [
             1,
             "#f0f921"
            ]
           ],
           "sequentialminus": [
            [
             0,
             "#0d0887"
            ],
            [
             0.1111111111111111,
             "#46039f"
            ],
            [
             0.2222222222222222,
             "#7201a8"
            ],
            [
             0.3333333333333333,
             "#9c179e"
            ],
            [
             0.4444444444444444,
             "#bd3786"
            ],
            [
             0.5555555555555556,
             "#d8576b"
            ],
            [
             0.6666666666666666,
             "#ed7953"
            ],
            [
             0.7777777777777778,
             "#fb9f3a"
            ],
            [
             0.8888888888888888,
             "#fdca26"
            ],
            [
             1,
             "#f0f921"
            ]
           ]
          },
          "colorway": [
           "#636efa",
           "#EF553B",
           "#00cc96",
           "#ab63fa",
           "#FFA15A",
           "#19d3f3",
           "#FF6692",
           "#B6E880",
           "#FF97FF",
           "#FECB52"
          ],
          "font": {
           "color": "#2a3f5f"
          },
          "geo": {
           "bgcolor": "white",
           "lakecolor": "white",
           "landcolor": "#E5ECF6",
           "showlakes": true,
           "showland": true,
           "subunitcolor": "white"
          },
          "hoverlabel": {
           "align": "left"
          },
          "hovermode": "closest",
          "mapbox": {
           "style": "light"
          },
          "paper_bgcolor": "white",
          "plot_bgcolor": "#E5ECF6",
          "polar": {
           "angularaxis": {
            "gridcolor": "white",
            "linecolor": "white",
            "ticks": ""
           },
           "bgcolor": "#E5ECF6",
           "radialaxis": {
            "gridcolor": "white",
            "linecolor": "white",
            "ticks": ""
           }
          },
          "scene": {
           "xaxis": {
            "backgroundcolor": "#E5ECF6",
            "gridcolor": "white",
            "gridwidth": 2,
            "linecolor": "white",
            "showbackground": true,
            "ticks": "",
            "zerolinecolor": "white"
           },
           "yaxis": {
            "backgroundcolor": "#E5ECF6",
            "gridcolor": "white",
            "gridwidth": 2,
            "linecolor": "white",
            "showbackground": true,
            "ticks": "",
            "zerolinecolor": "white"
           },
           "zaxis": {
            "backgroundcolor": "#E5ECF6",
            "gridcolor": "white",
            "gridwidth": 2,
            "linecolor": "white",
            "showbackground": true,
            "ticks": "",
            "zerolinecolor": "white"
           }
          },
          "shapedefaults": {
           "line": {
            "color": "#2a3f5f"
           }
          },
          "ternary": {
           "aaxis": {
            "gridcolor": "white",
            "linecolor": "white",
            "ticks": ""
           },
           "baxis": {
            "gridcolor": "white",
            "linecolor": "white",
            "ticks": ""
           },
           "bgcolor": "#E5ECF6",
           "caxis": {
            "gridcolor": "white",
            "linecolor": "white",
            "ticks": ""
           }
          },
          "title": {
           "x": 0.05
          },
          "xaxis": {
           "automargin": true,
           "gridcolor": "white",
           "linecolor": "white",
           "ticks": "",
           "title": {
            "standoff": 15
           },
           "zerolinecolor": "white",
           "zerolinewidth": 2
          },
          "yaxis": {
           "automargin": true,
           "gridcolor": "white",
           "linecolor": "white",
           "ticks": "",
           "title": {
            "standoff": 15
           },
           "zerolinecolor": "white",
           "zerolinewidth": 2
          }
         }
        },
        "title": {
         "text": "Ic       SNID: 2998840 z: 0.32 Not in DDF"
        },
        "width": 600,
        "xaxis": {
         "title": {
          "text": "Date"
         }
        },
        "yaxis": {
         "autorange": "reversed",
         "title": {
          "text": "magnitude"
         }
        }
       }
      }
     },
     "metadata": {},
     "output_type": "display_data"
    }
   ],
   "source": [
    "print(\"Plotting light curves for each SN type with >5 photometric points...\")\n",
    "print(\"Circles = SNR > 5, Squares = 1 < SNR < 5, Triangles = SNR < 1\")\n",
    "plot_lc_plotly(df_phot, df_header, idx, inmag=True, convert_date=True)"
   ]
  },
  {
   "cell_type": "markdown",
   "id": "07cf158f",
   "metadata": {},
   "source": [
    "# Questions"
   ]
  },
  {
   "cell_type": "markdown",
   "id": "367bca05",
   "metadata": {},
   "source": [
    "- which color scheme?\n",
    "- dynamic, non-dinamic plot\n",
    "- only detections? \n",
    "- add forced photometry?\n",
    "- different markers?\n",
    "- projections?\n",
    "- different profile tabs different visualisation?"
   ]
  },
  {
   "cell_type": "code",
   "execution_count": null,
   "id": "425175f6",
   "metadata": {},
   "outputs": [],
   "source": []
  }
 ],
 "metadata": {
  "kernelspec": {
   "display_name": "base",
   "language": "python",
   "name": "python3"
  },
  "language_info": {
   "codemirror_mode": {
    "name": "ipython",
    "version": 3
   },
   "file_extension": ".py",
   "mimetype": "text/x-python",
   "name": "python",
   "nbconvert_exporter": "python",
   "pygments_lexer": "ipython3",
   "version": "3.9.19"
  }
 },
 "nbformat": 4,
 "nbformat_minor": 5
}
